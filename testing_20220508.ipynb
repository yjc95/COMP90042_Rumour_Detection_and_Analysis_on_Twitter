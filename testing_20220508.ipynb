{
 "cells": [
  {
   "cell_type": "code",
   "execution_count": 25,
   "metadata": {
    "collapsed": true,
    "pycharm": {
     "name": "#%%\n"
    }
   },
   "outputs": [],
   "source": [
    "import re\n",
    "from nltk.corpus import stopwords\n",
    "import json\n",
    "\n",
    "\n",
    "stop_words = stopwords.words('english')"
   ]
  },
  {
   "cell_type": "code",
   "execution_count": 26,
   "outputs": [],
   "source": [
    "def remove_emoji(text):\n",
    "    emoji_pattern = re.compile(\"[\"\n",
    "                               u\"\\U0001F600-\\U0001F64F\"  # emoticons\n",
    "                               u\"\\U0001F300-\\U0001F5FF\"  # symbols & pictographs\n",
    "                               u\"\\U0001F680-\\U0001F6FF\"  # transport & map symbols\n",
    "                               u\"\\U0001F1E0-\\U0001F1FF\"  # flags (iOS)\n",
    "                               u\"\\U00002500-\\U00002BEF\"  # chinese char\n",
    "                               u\"\\U00002702-\\U000027B0\"\n",
    "                               u\"\\U00002702-\\U000027B0\"\n",
    "                               u\"\\U000024C2-\\U0001F251\"\n",
    "                               u\"\\U0001f926-\\U0001f937\"\n",
    "                               u\"\\U00010000-\\U0010ffff\"\n",
    "                               u\"\\u2640-\\u2642\"\n",
    "                               u\"\\u2600-\\u2B55\"\n",
    "                               u\"\\u200d\"\n",
    "                               u\"\\u23cf\"\n",
    "                               u\"\\u23e9\"\n",
    "                               u\"\\u231a\"\n",
    "                               u\"\\ufe0f\"  # dingbats\n",
    "                               u\"\\u3030\"\n",
    "                               \"]+\", flags=re.UNICODE)\n",
    "    return emoji_pattern.sub('', text)\n",
    "\n",
    "\n",
    "def clean_text(text: str):\n",
    "    text = text.lower()\n",
    "    text = remove_emoji(text)\n",
    "    text = re.sub(r\"http\\S+\", '', text)\n",
    "    text = re.sub(r\"\\S*@\\S*\\s?\", '', text)\n",
    "    text = re.sub(r\"#\\S*\", \"\", text)\n",
    "    text = re.sub(r\"[^a-z^A-Z]\", ' ', text) # remove anything except letters\n",
    "    text = re.sub(r\"\\s+\", ' ', text)\n",
    "\n",
    "    text = re.sub(r'(https|http)?:\\/\\/(\\w|\\.|\\/|\\?|\\=|\\&|\\%)*\\b', '', text)\n",
    "    text = re.sub(r'@(\\w+)?', '', text)\n",
    "    text = re.sub(r'#(\\w+)?', '', text)\n",
    "\n",
    "    word_list = [w for w in text.split() if w not in stop_words]\n",
    "    text_clean = ''\n",
    "    for w in word_list:\n",
    "        text_clean += (w + ' ')\n",
    "    if text_clean != '':\n",
    "        return text_clean\n",
    "    return ''"
   ],
   "metadata": {
    "collapsed": false,
    "pycharm": {
     "name": "#%%\n"
    }
   }
  },
  {
   "cell_type": "code",
   "execution_count": 27,
   "outputs": [],
   "source": [
    "x_train_data_text, x_dev_data_text, x_test_data_text = [], [], []\n",
    "x_train_data_valid_rate, x_dev_data_valid_rate, x_test_data_valid_rate = [],[],[]\n",
    "y_train_data, y_dev_data = [], []\n",
    "\n",
    "\n",
    "with open('./project-data/tweet-train-final.txt', 'r', encoding='utf-8') as f:\n",
    "    tweet_all = f.readlines()\n",
    "    for event in tweet_all:\n",
    "        # print(type(tweets), tweets)\n",
    "        tweets = json.loads(event)\n",
    "        text_event = ''\n",
    "        valid_num = 0\n",
    "        invalid_num = 0\n",
    "        for k, v in tweets.items():\n",
    "            if 'data' in v:\n",
    "                valid_num +=1\n",
    "                text = v['data'][0]['text']\n",
    "                text = clean_text(text)\n",
    "                text_event += text\n",
    "        x_train_data_text.append(text_event)\n",
    "        x_train_data_valid_rate.append(valid_num/len(tweets))"
   ],
   "metadata": {
    "collapsed": false,
    "pycharm": {
     "name": "#%%\n"
    }
   }
  },
  {
   "cell_type": "code",
   "execution_count": 28,
   "outputs": [],
   "source": [
    "with open('./project-data/tweet-dev-final.txt', 'r', encoding='utf-8') as f:\n",
    "    tweet_all = f.readlines()\n",
    "    for event in tweet_all:\n",
    "        tweets = json.loads(event)\n",
    "        text_event = ''\n",
    "        valid_num = 0\n",
    "        for k, v in tweets.items():\n",
    "            if 'data' in v:\n",
    "                valid_num +=1\n",
    "                text = v['data'][0]['text']\n",
    "                text = clean_text(text)\n",
    "                text_event += text\n",
    "\n",
    "\n",
    "        x_dev_data_text.append(text_event)\n",
    "        x_dev_data_valid_rate.append(valid_num/len(tweets))"
   ],
   "metadata": {
    "collapsed": false,
    "pycharm": {
     "name": "#%%\n"
    }
   }
  },
  {
   "cell_type": "code",
   "execution_count": 29,
   "outputs": [],
   "source": [
    "with open('./project-data/dev.label.txt', 'r', encoding='utf-8') as f:\n",
    "    label_all = f.readlines()\n",
    "    for label in label_all:\n",
    "        if label[:-1] == 'rumour':\n",
    "            y_dev_data.append(1)\n",
    "        else:\n",
    "            y_dev_data.append(0)\n",
    "\n",
    "with open('./project-data/train.label.txt', 'r', encoding='utf-8') as f:\n",
    "    label_all = f.readlines()\n",
    "    # print(type(label_all[1][:-1]), label_all[1][:-1])\n",
    "    for label in label_all:\n",
    "        if label[:-1] == 'rumour':\n",
    "            y_train_data.append(1)\n",
    "        else:\n",
    "            y_train_data.append(0)"
   ],
   "metadata": {
    "collapsed": false,
    "pycharm": {
     "name": "#%%\n"
    }
   }
  },
  {
   "cell_type": "code",
   "execution_count": 30,
   "outputs": [
    {
     "data": {
      "text/plain": "1895"
     },
     "execution_count": 30,
     "metadata": {},
     "output_type": "execute_result"
    }
   ],
   "source": [
    "len(x_train_data_text)"
   ],
   "metadata": {
    "collapsed": false,
    "pycharm": {
     "name": "#%%\n"
    }
   }
  },
  {
   "cell_type": "code",
   "execution_count": 31,
   "outputs": [
    {
     "data": {
      "text/plain": "1895"
     },
     "execution_count": 31,
     "metadata": {},
     "output_type": "execute_result"
    }
   ],
   "source": [
    "len(x_train_data_valid_rate)"
   ],
   "metadata": {
    "collapsed": false,
    "pycharm": {
     "name": "#%%\n"
    }
   }
  },
  {
   "cell_type": "code",
   "execution_count": 32,
   "outputs": [
    {
     "data": {
      "text/plain": "1895"
     },
     "execution_count": 32,
     "metadata": {},
     "output_type": "execute_result"
    }
   ],
   "source": [
    "len(y_train_data)"
   ],
   "metadata": {
    "collapsed": false,
    "pycharm": {
     "name": "#%%\n"
    }
   }
  },
  {
   "cell_type": "code",
   "execution_count": 33,
   "outputs": [],
   "source": [
    "import csv\n",
    "\n",
    "train_tsv_file = './project-data/train.tsv'\n",
    "train_tsv_columns = ['valid_rate', 'sentence', 'label']\n",
    "\n",
    "dev_tsv_file = './project-data/dev.tsv'\n",
    "dev_tsv_columns = ['valid_rate', 'sentence', 'label']\n",
    "\n",
    "train_data = zip(x_train_data_valid_rate, x_train_data_text, y_train_data)\n",
    "dev_data = zip(x_dev_data_valid_rate, x_dev_data_text, y_dev_data)\n",
    "\n",
    "\n",
    "def transfer_txt_to_tsv(output_tsv_file, output_tsv_columns, data):\n",
    "    with open(output_tsv_file, 'w', newline='') as f_output:\n",
    "        tsv_output = csv.writer(f_output)\n",
    "        tsv_output.writerow(output_tsv_columns)\n",
    "        for r,s, label in data:\n",
    "            tsv_output.writerow([r,s, label])\n",
    "\n",
    "\n",
    "transfer_txt_to_tsv(train_tsv_file, train_tsv_columns, train_data)\n",
    "transfer_txt_to_tsv(dev_tsv_file, dev_tsv_columns, dev_data)"
   ],
   "metadata": {
    "collapsed": false,
    "pycharm": {
     "name": "#%%\n"
    }
   }
  }
 ],
 "metadata": {
  "kernelspec": {
   "display_name": "Python 3",
   "language": "python",
   "name": "python3"
  },
  "language_info": {
   "codemirror_mode": {
    "name": "ipython",
    "version": 2
   },
   "file_extension": ".py",
   "mimetype": "text/x-python",
   "name": "python",
   "nbconvert_exporter": "python",
   "pygments_lexer": "ipython2",
   "version": "2.7.6"
  }
 },
 "nbformat": 4,
 "nbformat_minor": 0
}