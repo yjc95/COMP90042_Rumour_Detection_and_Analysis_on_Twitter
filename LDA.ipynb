{
 "cells": [
  {
   "cell_type": "code",
   "execution_count": 27,
   "outputs": [],
   "source": [
    "import pandas as pd\n",
    "import gensim\n",
    "from nltk.stem import WordNetLemmatizer, SnowballStemmer\n",
    "import numpy as np\n",
    "import re\n",
    "\n",
    "np.random.seed(90042)\n",
    "# import nltk\n",
    "# nltk.download('wordnet')\n",
    "\n",
    "from gensim import corpora, models\n",
    "\n",
    "result = pd.read_csv('tweet_covid_result_bert.csv')\n",
    "covid = pd.read_csv('./project-data/tweet_covid_bert.tsv')"
   ],
   "metadata": {
    "collapsed": false,
    "pycharm": {
     "name": "#%%\n"
    }
   }
  },
  {
   "cell_type": "code",
   "execution_count": 28,
   "outputs": [],
   "source": [
    "new_data = pd.DataFrame()\n",
    "new_data['sentence'] = covid['sentence'].copy()\n",
    "new_data['Predicted'] = result['Predicted'].copy()\n",
    "new_data_rumor = new_data[new_data['Predicted'] == 1]\n",
    "new_data_nonrumor = new_data[new_data['Predicted'] == 0]"
   ],
   "metadata": {
    "collapsed": false,
    "pycharm": {
     "name": "#%%\n"
    }
   }
  },
  {
   "cell_type": "code",
   "execution_count": 31,
   "outputs": [],
   "source": [
    "\n",
    "\n",
    "\n",
    "stemmer = SnowballStemmer('english')\n",
    "\n",
    "def lemmatize_stemming(text):\n",
    "    return stemmer.stem(WordNetLemmatizer().lemmatize(text, pos='v'))\n",
    "\n",
    "def preprocess(text):\n",
    "    result = []\n",
    "    for token in gensim.utils.simple_preprocess(text):\n",
    "        if token not in gensim.parsing.preprocessing.STOPWORDS and len(token) > 3:\n",
    "            result.append(lemmatize_stemming(token))\n",
    "    return result\n",
    "\n",
    "\n",
    "def get_LDA(new_data=new_data):\n",
    "    processed_data = new_data['sentence'].map(preprocess)\n",
    "    dictionary = gensim.corpora.Dictionary(processed_data)\n",
    "    dictionary.filter_extremes(no_below=15, no_above=0.5, keep_n=100000)\n",
    "    bow_corpus = [dictionary.doc2bow(doc) for doc in processed_data]\n",
    "\n",
    "    tfidf = models.TfidfModel(bow_corpus)\n",
    "    corpus_tfidf = tfidf[bow_corpus]\n",
    "\n",
    "    print('###################LDA BOW######################')\n",
    "    lda_model = gensim.models.LdaMulticore(bow_corpus, num_topics=10, id2word=dictionary, passes=2, workers=None,per_word_topics=True)\n",
    "    for idx, topic in lda_model.print_topics(-1):\n",
    "        print('Topic: {} \\nWords: {}'.format(idx, topic))\n",
    "        s = re.findall(\"[A-Za-z'-]+\",topic)\n",
    "        word_str = ' '.join([str(elem) for elem in s])\n",
    "        print('Topic: {} \\nWords: {}'.format(idx, word_str))\n",
    "    print('###################LDA TFIDF######################')\n",
    "    lda_model_tfidf = gensim.models.LdaMulticore(corpus_tfidf, num_topics=10, id2word=dictionary, passes=2, workers=None,per_word_topics=True)\n",
    "    for idx, topic in lda_model_tfidf.print_topics(-1):\n",
    "        print('Topic: {} Word: {}'.format(idx, topic))\n",
    "        s = re.findall(\"[A-Za-z'-]+\",topic)\n",
    "        word_str = ' '.join([str(elem) for elem in s])\n",
    "        print('Topic: {} \\nWords: {}'.format(idx, word_str))"
   ],
   "metadata": {
    "collapsed": false,
    "pycharm": {
     "name": "#%%\n"
    }
   }
  },
  {
   "cell_type": "code",
   "execution_count": 32,
   "outputs": [
    {
     "name": "stdout",
     "output_type": "stream",
     "text": [
      "###################LDA BOW######################\n",
      "Topic: 0 \n",
      "Words: 0.026*\"say\" + 0.021*\"peopl\" + 0.020*\"trump\" + 0.017*\"death\" + 0.015*\"coronavirus\" + 0.012*\"go\" + 0.012*\"right\" + 0.012*\"think\" + 0.011*\"like\" + 0.011*\"american\"\n",
      "Topic: 0 \n",
      "Words: say peopl trump death coronavirus go right think like american\n",
      "Topic: 1 \n",
      "Words: 0.041*\"peopl\" + 0.024*\"like\" + 0.020*\"coronavirus\" + 0.016*\"trump\" + 0.015*\"test\" + 0.011*\"think\" + 0.010*\"go\" + 0.010*\"know\" + 0.009*\"american\" + 0.009*\"virus\"\n",
      "Topic: 1 \n",
      "Words: peopl like coronavirus trump test think go know american virus\n",
      "Topic: 2 \n",
      "Words: 0.061*\"coronavirus\" + 0.028*\"peopl\" + 0.022*\"like\" + 0.017*\"go\" + 0.013*\"protest\" + 0.012*\"know\" + 0.011*\"pandem\" + 0.009*\"kill\" + 0.009*\"need\" + 0.009*\"week\"\n",
      "Topic: 2 \n",
      "Words: coronavirus peopl like go protest know pandem kill need week\n",
      "Topic: 3 \n",
      "Words: 0.029*\"coronavirus\" + 0.024*\"american\" + 0.023*\"trump\" + 0.020*\"peopl\" + 0.016*\"death\" + 0.014*\"case\" + 0.014*\"presid\" + 0.013*\"die\" + 0.012*\"kill\" + 0.012*\"play\"\n",
      "Topic: 3 \n",
      "Words: coronavirus american trump peopl death case presid die kill play\n",
      "Topic: 4 \n",
      "Words: 0.071*\"trump\" + 0.041*\"coronavirus\" + 0.019*\"peopl\" + 0.019*\"like\" + 0.017*\"america\" + 0.017*\"say\" + 0.015*\"know\" + 0.013*\"go\" + 0.013*\"death\" + 0.012*\"american\"\n",
      "Topic: 4 \n",
      "Words: trump coronavirus peopl like america say know go death american\n",
      "Topic: 5 \n",
      "Words: 0.054*\"coronavirus\" + 0.024*\"peopl\" + 0.021*\"like\" + 0.013*\"go\" + 0.012*\"trump\" + 0.012*\"world\" + 0.011*\"america\" + 0.010*\"death\" + 0.008*\"case\" + 0.008*\"american\"\n",
      "Topic: 5 \n",
      "Words: coronavirus peopl like go trump world america death case american\n",
      "Topic: 6 \n",
      "Words: 0.040*\"peopl\" + 0.031*\"want\" + 0.023*\"trump\" + 0.020*\"thank\" + 0.020*\"coronavirus\" + 0.020*\"racism\" + 0.019*\"anti\" + 0.018*\"concern\" + 0.018*\"chang\" + 0.016*\"like\"\n",
      "Topic: 6 \n",
      "Words: peopl want trump thank coronavirus racism anti concern chang like\n",
      "Topic: 7 \n",
      "Words: 0.030*\"death\" + 0.028*\"mask\" + 0.024*\"peopl\" + 0.020*\"coronavirus\" + 0.019*\"wear\" + 0.016*\"year\" + 0.015*\"like\" + 0.014*\"case\" + 0.011*\"govern\" + 0.010*\"million\"\n",
      "Topic: 7 \n",
      "Words: death mask peopl coronavirus wear year like case govern million\n",
      "Topic: 8 \n",
      "Words: 0.022*\"ignor\" + 0.021*\"share\" + 0.020*\"peopl\" + 0.019*\"love\" + 0.018*\"countri\" + 0.018*\"like\" + 0.017*\"american\" + 0.017*\"nation\" + 0.017*\"coronavirus\" + 0.016*\"trump\"\n",
      "Topic: 8 \n",
      "Words: ignor share peopl love countri like american nation coronavirus trump\n",
      "Topic: 9 \n",
      "Words: 0.041*\"coronavirus\" + 0.036*\"death\" + 0.028*\"like\" + 0.024*\"peopl\" + 0.013*\"trump\" + 0.013*\"die\" + 0.013*\"virus\" + 0.011*\"time\" + 0.010*\"american\" + 0.009*\"live\"\n",
      "Topic: 9 \n",
      "Words: coronavirus death like peopl trump die virus time american live\n",
      "###################LDA TFIDF######################\n",
      "Topic: 0 Word: 0.012*\"video\" + 0.011*\"articl\" + 0.011*\"quot\" + 0.011*\"peopl\" + 0.011*\"tweet\" + 0.010*\"wonder\" + 0.010*\"interest\" + 0.010*\"compani\" + 0.009*\"black\" + 0.008*\"usual\"\n",
      "Topic: 0 \n",
      "Words: video articl quot peopl tweet wonder interest compani black usual\n",
      "Topic: 1 Word: 0.016*\"coronavirus\" + 0.013*\"trump\" + 0.013*\"like\" + 0.009*\"peopl\" + 0.007*\"home\" + 0.007*\"world\" + 0.007*\"think\" + 0.007*\"say\" + 0.007*\"virus\" + 0.007*\"pandem\"\n",
      "Topic: 1 \n",
      "Words: coronavirus trump like peopl home world think say virus pandem\n",
      "Topic: 2 Word: 0.011*\"peopl\" + 0.010*\"coronavirus\" + 0.009*\"quot\" + 0.009*\"time\" + 0.009*\"wuhan\" + 0.009*\"american\" + 0.009*\"tweet\" + 0.008*\"dead\" + 0.007*\"live\" + 0.007*\"like\"\n",
      "Topic: 2 \n",
      "Words: peopl coronavirus quot time wuhan american tweet dead live like\n",
      "Topic: 3 Word: 0.012*\"china\" + 0.012*\"live\" + 0.009*\"time\" + 0.009*\"lose\" + 0.009*\"shit\" + 0.008*\"say\" + 0.008*\"peopl\" + 0.008*\"offici\" + 0.008*\"thing\" + 0.008*\"threat\"\n",
      "Topic: 3 \n",
      "Words: china live time lose shit say peopl offici thing threat\n",
      "Topic: 4 Word: 0.017*\"coronavirus\" + 0.011*\"peopl\" + 0.009*\"govern\" + 0.009*\"close\" + 0.009*\"governor\" + 0.008*\"like\" + 0.008*\"kill\" + 0.008*\"work\" + 0.008*\"death\" + 0.008*\"know\"\n",
      "Topic: 4 \n",
      "Words: coronavirus peopl govern close governor like kill work death know\n",
      "Topic: 5 Word: 0.014*\"retweet\" + 0.013*\"death\" + 0.012*\"love\" + 0.011*\"like\" + 0.010*\"trump\" + 0.009*\"talk\" + 0.009*\"continu\" + 0.009*\"kid\" + 0.009*\"want\" + 0.009*\"releas\"\n",
      "Topic: 5 \n",
      "Words: retweet death love like trump talk continu kid want releas\n",
      "Topic: 6 Word: 0.015*\"coronavirus\" + 0.012*\"hospit\" + 0.011*\"like\" + 0.011*\"death\" + 0.010*\"trump\" + 0.010*\"test\" + 0.010*\"mask\" + 0.009*\"peopl\" + 0.008*\"say\" + 0.008*\"wear\"\n",
      "Topic: 6 \n",
      "Words: coronavirus hospit like death trump test mask peopl say wear\n",
      "Topic: 7 Word: 0.017*\"claim\" + 0.011*\"presid\" + 0.009*\"like\" + 0.009*\"open\" + 0.009*\"say\" + 0.009*\"post\" + 0.008*\"tell\" + 0.008*\"coronavirus\" + 0.008*\"peopl\" + 0.008*\"watch\"\n",
      "Topic: 7 \n",
      "Words: claim presid like open say post tell coronavirus peopl watch\n",
      "Topic: 8 Word: 0.021*\"trump\" + 0.009*\"say\" + 0.009*\"expert\" + 0.008*\"death\" + 0.008*\"democrat\" + 0.008*\"believ\" + 0.007*\"case\" + 0.007*\"die\" + 0.007*\"presid\" + 0.007*\"china\"\n",
      "Topic: 8 \n",
      "Words: trump say expert death democrat believ case die presid china\n",
      "Topic: 9 Word: 0.018*\"go\" + 0.013*\"trump\" + 0.012*\"death\" + 0.010*\"friend\" + 0.009*\"stori\" + 0.008*\"know\" + 0.008*\"fight\" + 0.008*\"follow\" + 0.008*\"crazi\" + 0.008*\"cover\"\n",
      "Topic: 9 \n",
      "Words: go trump death friend stori know fight follow crazi cover\n"
     ]
    }
   ],
   "source": [
    "get_LDA(new_data_rumor)"
   ],
   "metadata": {
    "collapsed": false,
    "pycharm": {
     "name": "#%%\n"
    }
   }
  },
  {
   "cell_type": "code",
   "execution_count": 33,
   "outputs": [
    {
     "name": "stdout",
     "output_type": "stream",
     "text": [
      "###################LDA BOW######################\n",
      "Topic: 0 \n",
      "Words: 0.016*\"test\" + 0.015*\"trump\" + 0.011*\"peopl\" + 0.011*\"death\" + 0.009*\"american\" + 0.007*\"pandem\" + 0.007*\"need\" + 0.007*\"case\" + 0.007*\"know\" + 0.005*\"say\"\n",
      "Topic: 0 \n",
      "Words: test trump peopl death american pandem need case know say\n",
      "Topic: 1 \n",
      "Words: 0.015*\"case\" + 0.013*\"peopl\" + 0.013*\"trump\" + 0.010*\"american\" + 0.009*\"death\" + 0.008*\"virus\" + 0.008*\"like\" + 0.008*\"china\" + 0.008*\"pandem\" + 0.007*\"world\"\n",
      "Topic: 1 \n",
      "Words: case peopl trump american death virus like china pandem world\n",
      "Topic: 2 \n",
      "Words: 0.024*\"death\" + 0.020*\"trump\" + 0.014*\"case\" + 0.014*\"peopl\" + 0.012*\"test\" + 0.012*\"state\" + 0.007*\"american\" + 0.006*\"presid\" + 0.006*\"say\" + 0.006*\"number\"\n",
      "Topic: 2 \n",
      "Words: death trump case peopl test state american presid say number\n",
      "Topic: 3 \n",
      "Words: 0.017*\"trump\" + 0.017*\"death\" + 0.013*\"peopl\" + 0.011*\"test\" + 0.008*\"case\" + 0.007*\"american\" + 0.007*\"time\" + 0.006*\"number\" + 0.006*\"know\" + 0.006*\"say\"\n",
      "Topic: 3 \n",
      "Words: trump death peopl test case american time number know say\n",
      "Topic: 4 \n",
      "Words: 0.020*\"peopl\" + 0.016*\"trump\" + 0.010*\"test\" + 0.008*\"death\" + 0.008*\"like\" + 0.007*\"american\" + 0.007*\"say\" + 0.006*\"mask\" + 0.006*\"go\" + 0.006*\"virus\"\n",
      "Topic: 4 \n",
      "Words: peopl trump test death like american say mask go virus\n",
      "Topic: 5 \n",
      "Words: 0.017*\"trump\" + 0.013*\"peopl\" + 0.011*\"mask\" + 0.009*\"american\" + 0.009*\"say\" + 0.009*\"test\" + 0.007*\"like\" + 0.006*\"case\" + 0.006*\"china\" + 0.006*\"death\"\n",
      "Topic: 5 \n",
      "Words: trump peopl mask american say test like case china death\n",
      "Topic: 6 \n",
      "Words: 0.012*\"test\" + 0.012*\"peopl\" + 0.011*\"trump\" + 0.008*\"help\" + 0.008*\"work\" + 0.008*\"know\" + 0.008*\"care\" + 0.007*\"virus\" + 0.007*\"need\" + 0.006*\"die\"\n",
      "Topic: 6 \n",
      "Words: test peopl trump help work know care virus need die\n",
      "Topic: 7 \n",
      "Words: 0.030*\"trump\" + 0.015*\"american\" + 0.013*\"death\" + 0.010*\"peopl\" + 0.007*\"case\" + 0.007*\"like\" + 0.007*\"die\" + 0.007*\"presid\" + 0.006*\"respons\" + 0.006*\"hoax\"\n",
      "Topic: 7 \n",
      "Words: trump american death peopl case like die presid respons hoax\n",
      "Topic: 8 \n",
      "Words: 0.027*\"trump\" + 0.016*\"death\" + 0.015*\"peopl\" + 0.009*\"american\" + 0.008*\"pandem\" + 0.008*\"test\" + 0.007*\"case\" + 0.007*\"like\" + 0.006*\"presid\" + 0.006*\"virus\"\n",
      "Topic: 8 \n",
      "Words: trump death peopl american pandem test case like presid virus\n",
      "Topic: 9 \n",
      "Words: 0.017*\"peopl\" + 0.011*\"trump\" + 0.010*\"virus\" + 0.009*\"case\" + 0.008*\"american\" + 0.007*\"death\" + 0.007*\"go\" + 0.007*\"know\" + 0.007*\"like\" + 0.007*\"china\"\n",
      "Topic: 9 \n",
      "Words: peopl trump virus case american death go know like china\n",
      "###################LDA TFIDF######################\n",
      "Topic: 0 Word: 0.005*\"trump\" + 0.004*\"death\" + 0.004*\"peopl\" + 0.004*\"case\" + 0.003*\"home\" + 0.003*\"test\" + 0.003*\"say\" + 0.003*\"american\" + 0.003*\"state\" + 0.003*\"know\"\n",
      "Topic: 0 \n",
      "Words: trump death peopl case home test say american state know\n",
      "Topic: 1 Word: 0.006*\"valid\" + 0.006*\"sentenc\" + 0.005*\"test\" + 0.005*\"trump\" + 0.005*\"case\" + 0.004*\"death\" + 0.003*\"report\" + 0.003*\"peopl\" + 0.003*\"posit\" + 0.003*\"say\"\n",
      "Topic: 1 \n",
      "Words: valid sentenc test trump case death report peopl posit say\n",
      "Topic: 2 Word: 0.005*\"trump\" + 0.004*\"peopl\" + 0.003*\"death\" + 0.003*\"test\" + 0.003*\"case\" + 0.003*\"china\" + 0.003*\"pandem\" + 0.003*\"state\" + 0.003*\"say\" + 0.002*\"presid\"\n",
      "Topic: 2 \n",
      "Words: trump peopl death test case china pandem state say presid\n",
      "Topic: 3 Word: 0.022*\"valid\" + 0.021*\"sentenc\" + 0.005*\"test\" + 0.004*\"death\" + 0.004*\"trump\" + 0.003*\"case\" + 0.003*\"peopl\" + 0.003*\"say\" + 0.003*\"virus\" + 0.002*\"china\"\n",
      "Topic: 3 \n",
      "Words: valid sentenc test death trump case peopl say virus china\n",
      "Topic: 4 Word: 0.006*\"trump\" + 0.005*\"death\" + 0.004*\"peopl\" + 0.003*\"test\" + 0.003*\"case\" + 0.003*\"american\" + 0.003*\"state\" + 0.003*\"virus\" + 0.003*\"say\" + 0.003*\"like\"\n",
      "Topic: 4 \n",
      "Words: trump death peopl test case american state virus say like\n",
      "Topic: 5 Word: 0.008*\"trump\" + 0.005*\"death\" + 0.004*\"american\" + 0.004*\"peopl\" + 0.004*\"case\" + 0.004*\"test\" + 0.003*\"presid\" + 0.003*\"china\" + 0.003*\"die\" + 0.003*\"state\"\n",
      "Topic: 5 \n",
      "Words: trump death american peopl case test presid china die state\n",
      "Topic: 6 Word: 0.005*\"trump\" + 0.005*\"test\" + 0.004*\"death\" + 0.004*\"peopl\" + 0.003*\"case\" + 0.003*\"vaccin\" + 0.003*\"china\" + 0.003*\"pandem\" + 0.003*\"say\" + 0.002*\"virus\"\n",
      "Topic: 6 \n",
      "Words: trump test death peopl case vaccin china pandem say virus\n",
      "Topic: 7 Word: 0.007*\"valid\" + 0.006*\"sentenc\" + 0.006*\"trump\" + 0.005*\"test\" + 0.003*\"death\" + 0.003*\"peopl\" + 0.003*\"case\" + 0.003*\"american\" + 0.003*\"state\" + 0.003*\"say\"\n",
      "Topic: 7 \n",
      "Words: valid sentenc trump test death peopl case american state say\n",
      "Topic: 8 Word: 0.005*\"death\" + 0.004*\"case\" + 0.004*\"trump\" + 0.004*\"peopl\" + 0.004*\"test\" + 0.003*\"pandem\" + 0.003*\"mask\" + 0.003*\"number\" + 0.003*\"virus\" + 0.003*\"die\"\n",
      "Topic: 8 \n",
      "Words: death case trump peopl test pandem mask number virus die\n",
      "Topic: 9 Word: 0.005*\"test\" + 0.005*\"death\" + 0.004*\"trump\" + 0.004*\"case\" + 0.003*\"peopl\" + 0.003*\"posit\" + 0.003*\"china\" + 0.003*\"say\" + 0.003*\"mask\" + 0.003*\"virus\"\n",
      "Topic: 9 \n",
      "Words: test death trump case peopl posit china say mask virus\n"
     ]
    }
   ],
   "source": [
    "get_LDA(new_data_nonrumor)"
   ],
   "metadata": {
    "collapsed": false,
    "pycharm": {
     "name": "#%%\n"
    }
   }
  },
  {
   "cell_type": "code",
   "execution_count": null,
   "outputs": [],
   "source": [],
   "metadata": {
    "collapsed": false,
    "pycharm": {
     "name": "#%%\n"
    }
   }
  }
 ],
 "metadata": {
  "kernelspec": {
   "display_name": "Python 3",
   "language": "python",
   "name": "python3"
  },
  "language_info": {
   "codemirror_mode": {
    "name": "ipython",
    "version": 2
   },
   "file_extension": ".py",
   "mimetype": "text/x-python",
   "name": "python",
   "nbconvert_exporter": "python",
   "pygments_lexer": "ipython2",
   "version": "2.7.6"
  }
 },
 "nbformat": 4,
 "nbformat_minor": 0
}